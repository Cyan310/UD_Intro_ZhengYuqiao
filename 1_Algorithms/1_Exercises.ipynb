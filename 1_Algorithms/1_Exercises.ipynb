{
 "cells": [
  {
   "cell_type": "markdown",
   "id": "38e188a5",
   "metadata": {},
   "source": [
    "# Exercise 00\n",
    "Write a piece of code that allocates a list of 20 integers and initializes each element by its index multiplied by 5. Print the result."
   ]
  },
  {
   "cell_type": "code",
   "execution_count": 8,
   "id": "01aa4f35",
   "metadata": {},
   "outputs": [
    {
     "name": "stdout",
     "output_type": "stream",
     "text": [
      "[5, 10, 15, 20, 25, 30, 35, 40, 45, 50, 55, 60, 65, 70, 75, 80, 85, 90, 95]\n"
     ]
    }
   ],
   "source": [
    "myListO = list(range(1,20+1))\n",
    "myListF = []\n",
    "listIndexLen = len(myListO)-1\n",
    "i = 0\n",
    "while i != int(len(myListO)-1):\n",
    "    myListF.append(myListO[i]*5)\n",
    "    i +=1\n",
    "print(myListF)"
   ]
  },
  {
   "cell_type": "markdown",
   "id": "529d91ae",
   "metadata": {},
   "source": [
    "# Exercise 01\n",
    "Define a function that takes an integer as input, prints  all integers that it is divisable by, and returns the largest one."
   ]
  },
  {
   "cell_type": "code",
   "execution_count": 22,
   "id": "30e79132",
   "metadata": {},
   "outputs": [
    {
     "name": "stdout",
     "output_type": "stream",
     "text": [
      "[410505, 246303, 136835, 82101, 27367, 45, 15, 9, 5, 3, 1] The largest is: 410505\n"
     ]
    }
   ],
   "source": [
    "\n",
    "def divLarge(numSelect):\n",
    "    diviNum = numSelect -1\n",
    "    outList = []\n",
    "    while int(diviNum) != 0:\n",
    "        calPro = numSelect % diviNum\n",
    "        if calPro == 0 :\n",
    "            outList.append(diviNum)\n",
    "        diviNum -= 1\n",
    "\n",
    "    print(str(outList) + \" The largest is: \" + str(outList[0]))\n",
    "\n",
    "Outcome = divLarge(int(input('Enter a number')))\n",
    "            "
   ]
  },
  {
   "cell_type": "markdown",
   "id": "cfbe30d4",
   "metadata": {},
   "source": [
    "# Exercise 02\n",
    "- create a dictionary with 6 keys and values of your choice\n",
    "- write a function that takes a dictionary and a value as input and returns whether the value occurs as a key in the dictionary\n",
    "- write a function that takes a dictionary as input, and returns the dictionary but the keys are swapped with their values (resolve the issue if a value occurs twice!)"
   ]
  },
  {
   "cell_type": "code",
   "execution_count": 32,
   "id": "2123f1c6",
   "metadata": {},
   "outputs": [
    {
     "name": "stdout",
     "output_type": "stream",
     "text": [
      "True\n",
      "False\n"
     ]
    },
    {
     "data": {
      "text/plain": [
       "{'Yuqiao': 'Name',\n",
       " 'Male': 'Gender',\n",
       " 'Urban Design': 'Major',\n",
       " 'Landscape Architecture': 'Hate',\n",
       " 'Rabbit': 'Love',\n",
       " 'China': 'From'}"
      ]
     },
     "execution_count": 32,
     "metadata": {},
     "output_type": "execute_result"
    }
   ],
   "source": [
    "myDict = {\n",
    "    'Name' : 'Yuqiao',\n",
    "    'Gender' : 'Male',\n",
    "    'Major':'Urban Design',\n",
    "    'Hate' :'Landscape Architecture',\n",
    "    'Love' : 'Rabbit',\n",
    "    'From' : 'China'\n",
    "}\n",
    "\n",
    "def checkDic(x,y):\n",
    "    for z in x.keys():\n",
    "        if y == z:\n",
    "            return True\n",
    "    return False\n",
    "\n",
    "print(checkDic(myDict,\"Name\"))\n",
    "print(checkDic(myDict,\"DOG\"))\n",
    "\n",
    "def ChangKaV(inDic):\n",
    "    outDic = {}\n",
    "    for x in inDic.keys():\n",
    "        outDic[inDic[x]] = x\n",
    "    return outDic\n",
    "\n",
    "ChangKaV(myDict)\n",
    "\n",
    "\n"
   ]
  },
  {
   "cell_type": "markdown",
   "id": "b4b4e426",
   "metadata": {},
   "source": [
    "# Exercise 03\n",
    "Define a function that creates a dictionary of the first n fibonacci numbers as values paired with their indices as keys. "
   ]
  },
  {
   "cell_type": "code",
   "execution_count": 33,
   "id": "7845b5a4",
   "metadata": {},
   "outputs": [
    {
     "data": {
      "text/plain": [
       "{0: 0, 1: 1, 2: 1, 3: 2, 4: 3, 5: 5, 6: 8, 7: 13, 8: 21, 9: 34}"
      ]
     },
     "execution_count": 33,
     "metadata": {},
     "output_type": "execute_result"
    }
   ],
   "source": [
    "def fibDic(x):\n",
    "\n",
    "    fib = {}\n",
    "    n1 = 0\n",
    "    n2 = 1\n",
    "    \n",
    "    for y in range(x):\n",
    "        fib[y] = n1\n",
    "        z = n1 + n2\n",
    "        n1 = n2\n",
    "        n2 = z\n",
    "    \n",
    "    return fib\n",
    "\n",
    "fibDic(10)"
   ]
  }
 ],
 "metadata": {
  "kernelspec": {
   "display_name": "Python 3 (ipykernel)",
   "language": "python",
   "name": "python3"
  },
  "language_info": {
   "codemirror_mode": {
    "name": "ipython",
    "version": 3
   },
   "file_extension": ".py",
   "mimetype": "text/x-python",
   "name": "python",
   "nbconvert_exporter": "python",
   "pygments_lexer": "ipython3",
   "version": "3.11.5"
  }
 },
 "nbformat": 4,
 "nbformat_minor": 5
}
