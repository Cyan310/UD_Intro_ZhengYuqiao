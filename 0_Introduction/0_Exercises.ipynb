{
 "cells": [
  {
   "cell_type": "markdown",
   "id": "529d91ae",
   "metadata": {},
   "source": [
    "# Exercise 00\n",
    "Write a bit of code that prints _Introduction to Programming_ to the console and execute the cell"
   ]
  },
  {
   "cell_type": "code",
   "execution_count": 1,
   "id": "98711beb",
   "metadata": {},
   "outputs": [
    {
     "name": "stdout",
     "output_type": "stream",
     "text": [
      "Introduction to Programming\n"
     ]
    }
   ],
   "source": [
    "print(\"Introduction to Programming\")"
   ]
  },
  {
   "cell_type": "markdown",
   "id": "63ad5023",
   "metadata": {},
   "source": [
    "-----------------------------------------------------------------------------\n",
    "# Exercise 01\n",
    "Hello World is traditionally the first program anyone writes. It is\n",
    "very simple and the only thing it should do is print Hello World! to the\n",
    "terminal window.\n",
    "Create a file called HelloWorld.py and edit the contents so it prints Hello World! to the terminal and execute it using the command line."
   ]
  },
  {
   "cell_type": "markdown",
   "id": "a4a7c4c2",
   "metadata": {},
   "source": [
    "-----------------------------------------------------------------------------\n",
    "# Exercise 02\n",
    "Write some code to print your name, email, and age on separate lines. For each element first assign it to a variable and use the variable to print. \n",
    "\n",
    "Bonus: try to create the print statement for all variable in one line of code. (hint: '\\n' is the character for a new line)"
   ]
  },
  {
   "cell_type": "code",
   "execution_count": 9,
   "id": "fc8fface",
   "metadata": {},
   "outputs": [
    {
     "name": "stdout",
     "output_type": "stream",
     "text": [
      "Normal:\n",
      "Name: Yuqiao Zheng\n",
      "Email: zczqyz@ucl.ac.uk\n",
      "Age: 24\n",
      "\n",
      "Bonus:\n",
      "Name: Yuqiao Zheng\n",
      "Email: zczqyz@ucl.ac.uk\n",
      "Age: 24\n"
     ]
    }
   ],
   "source": [
    "myName = \"Name: Yuqiao Zheng\"\n",
    "myEmail = \"Email: zczqyz@ucl.ac.uk\"\n",
    "myAge = \"Age: 24\"\n",
    "myInfo = \"Name: Yuqiao Zheng\\nEmail: zczqyz@ucl.ac.uk\\nAge: 24\"\n",
    "print('Normal:\\n'+ myName +'\\n' + myEmail +'\\n'+ myAge +'\\n\\nBonus:\\n'+ myInfo)"
   ]
  },
  {
   "cell_type": "markdown",
   "id": "0dd1c1d1",
   "metadata": {},
   "source": [
    "-----------------------------------------------------------------------------\n",
    "# Exercise 03\n",
    "Print the numbers 0, 178, -21, 2938 divided by 49, 436 multiplied with 9948 and 12 to the power of 20\n",
    "\n",
    "(Hint: Look up the documentation of basic arithmetic operators)"
   ]
  },
  {
   "cell_type": "code",
   "execution_count": 31,
   "id": "f3d5d009",
   "metadata": {},
   "outputs": [
    {
     "name": "stdout",
     "output_type": "stream",
     "text": [
      "Outcome:\n",
      "0\n",
      "178\n",
      "-21\n",
      "59.95918367346939\n",
      "4337328\n",
      "3833759992447475122176\n",
      "\n"
     ]
    }
   ],
   "source": [
    "num1 = 0\n",
    "num2 = 178\n",
    "num3 = -21\n",
    "num4 = 2938/49\n",
    "num5 = 436*9948\n",
    "num6 = 12**20\n",
    "print('Outcome:\\n' + str(num1) + '\\n' + str(num2) + '\\n'+ str(num3) + '\\n'+ str(num4) + '\\n'+ str(num5) + '\\n'+ str(num6) + '\\n')\n"
   ]
  },
  {
   "cell_type": "markdown",
   "id": "1f151455",
   "metadata": {},
   "source": [
    "-----------------------------------------------------------------------------\n",
    "# Exercise 04\n",
    "Print sin(200), cos(100), tan($\\pi$/4)\n",
    "\n",
    "(Hint: Look up for how to use trigonometric function, and how to get the value of $\\pi$.)"
   ]
  },
  {
   "cell_type": "code",
   "execution_count": 29,
   "id": "d0e37690",
   "metadata": {},
   "outputs": [
    {
     "name": "stdout",
     "output_type": "stream",
     "text": [
      "-0.8732972972139946\n",
      "0.8623188722876839\n",
      "0.9999999999999999\n"
     ]
    }
   ],
   "source": [
    "import math\n",
    "print(math.sin(200))\n",
    "print(math.cos(100))\n",
    "print(math.tan(math.pi/4))"
   ]
  },
  {
   "cell_type": "markdown",
   "id": "9d026820",
   "metadata": {},
   "source": [
    "-----------------------------------------------------------------------------\n",
    "# Exercise 05\n",
    "Write a program to read your first and last names from the console seperately, and then print them on the console together, separated by a space."
   ]
  },
  {
   "cell_type": "code",
   "execution_count": 36,
   "id": "4c7217e0",
   "metadata": {},
   "outputs": [
    {
     "name": "stdout",
     "output_type": "stream",
     "text": [
      "Your name is: Yuqiao Zheng\n"
     ]
    }
   ],
   "source": [
    "FirstName = input('Please enter your Firstname: ')\n",
    "LastName = input('Please enter your Lastname: ')\n",
    "print('Your name is: ' + FirstName + ' ' + LastName)"
   ]
  },
  {
   "cell_type": "markdown",
   "id": "e83fa346",
   "metadata": {},
   "source": [
    "-----------------------------------------------------------------------------\n",
    "# Exercise 06\n",
    "Write a program that determines whether a number given as user input is positive or negative\n",
    " \n",
    "You will need to convert the console input from a string to a number first!"
   ]
  },
  {
   "cell_type": "code",
   "execution_count": 44,
   "id": "ecd924c2",
   "metadata": {},
   "outputs": [
    {
     "name": "stdout",
     "output_type": "stream",
     "text": [
      "This number is positive!\n"
     ]
    }
   ],
   "source": [
    "targetNum = int(input('Please enter a number: '))\n",
    "if targetNum < 0:\n",
    "    print('This number is negative!')\n",
    "elif targetNum > 0:\n",
    "    print('This number is positive!')\n",
    "else:\n",
    "    print('This number is 0!')"
   ]
  },
  {
   "cell_type": "markdown",
   "id": "2a192596",
   "metadata": {},
   "source": [
    "-----------------------------------------------------------------------------\n",
    "# Exercise 07\n",
    "Write a program that picks a random number between 1-20 and makes the user guess until they get the number right. Then print a congratulations message\n",
    "- (Find out yourself how to generate a random integer)\n",
    "- Bonus: make the user choose the range within which they have to guess\n",
    "- Bonus: keep track of how many guesses were made and print this at the end"
   ]
  },
  {
   "cell_type": "code",
   "execution_count": 77,
   "id": "70358dd3",
   "metadata": {},
   "outputs": [
    {
     "name": "stdout",
     "output_type": "stream",
     "text": [
      "You chose to play a number gussing game!\n",
      "Enter the SMALLEST number in the range of the number you want to guess:\n",
      "\n",
      "Good! The smallest number in the game range is: 1!\n",
      "\n",
      "Then enter the LARGEST number in the range of the number you want to guess:\n",
      "\n",
      "Great! The largest number in the game range is: 9!\n",
      "\n",
      "Now you need to guess a number between 1 and 9!\n",
      "\n",
      "Current number of guesses made: 0\n",
      "The number you are going to guess is: (Please enter a number)\n",
      "\n",
      "Current number of guesses made: 1\n",
      "The number you just guessed is: 5\n",
      "Too large! Try again: \n",
      "\n",
      "Current number of guesses made: 2\n",
      "The number you just guessed is: 4\n",
      "Too large! Try again: \n",
      "\n",
      "Current number of guesses made: 3\n",
      "The number you just guessed is: 3\n",
      "Too large! Try again: \n",
      "\n",
      "Congratulations! You win!\n",
      "The answer is: 2!\n",
      "You made a total of 4 attempts!\n"
     ]
    }
   ],
   "source": [
    "import random\n",
    "guessNum = 0\n",
    "\n",
    "#Enter the smallest number\n",
    "print('You chose to play a number gussing game!\\nEnter the SMALLEST number in the range of the number you want to guess:\\n')\n",
    "mySmallest = int(input('You chose to play a number gussing game!\\nEnter the SMALLEST number in the range of the number you want to guess: '))\n",
    "print('Good! The smallest number in the game range is: '+ str(mySmallest) + '!\\n')\n",
    "\n",
    "#Enter the largest number\n",
    "print('Then enter the LARGEST number in the range of the number you want to guess:')\n",
    "myLargest = int(input('Enter the LARGEST number in the range of the number you want to guess: '))\n",
    "#Ensure that the maximum value is greater than the minimum value\n",
    "while (mySmallest >= myLargest):\n",
    "    print('Please enter a number greater than the smallest number!\\nEnter again: ')\n",
    "    myLargest = int(input('Enter the largest number in the range of the number you want to guess: '))\n",
    "print('\\nGreat! The largest number in the game range is: '+ str(myLargest) + '!')\n",
    "\n",
    "print('\\nNow you need to guess a number between ' + str(mySmallest) + ' and ' + str(myLargest) + '!')\n",
    "answerNum = random.randint(mySmallest,myLargest)\n",
    "\n",
    "print('Current number of guesses made: ' + str(guessNum))\n",
    "print('The number you are going to guess is: (Please enter a number)')\n",
    "myGuess = int(input('The number you are going to guess is: (Please enter a number)'))\n",
    "\n",
    "while(myGuess != answerNum):\n",
    "    if(myGuess < answerNum):\n",
    "        guessNum += 1\n",
    "        print('\\nCurrent number of guesses made: ' + str(guessNum))\n",
    "        print('The number you just guessed is: ' + str(myGuess))\n",
    "        print('Too small! Try again: ')\n",
    "        myGuess = int(input('The number you are going to guess is: (Please enter a number)'))\n",
    "    elif(myGuess > answerNum):\n",
    "        guessNum +=1\n",
    "        print('\\nCurrent number of guesses made: ' + str(guessNum))\n",
    "        print('The number you just guessed is: ' + str(myGuess))\n",
    "        print('Too large! Try again: ')\n",
    "        myGuess = int(input('The number you are going to guess is: (Please enter a number)'))\n",
    "    else:\n",
    "        myGuess = myGuess\n",
    "guessNum += 1       \n",
    "print('\\nCongratulations! You win!\\nThe answer is: ' + str(answerNum) +'!\\nYou made a total of ' + str(guessNum) + ' attempts!')\n",
    "\n",
    "\n"
   ]
  },
  {
   "cell_type": "markdown",
   "id": "d53b9c07",
   "metadata": {},
   "source": [
    "-----------------------------------------------------------------------------\n",
    "# Exercise 08\n",
    "Ask a sentence as input, then print the words in alphabetical order.\n",
    "Hint: look up how to split up a string"
   ]
  },
  {
   "cell_type": "code",
   "execution_count": 82,
   "id": "b6524cf5",
   "metadata": {},
   "outputs": [
    {
     "name": "stdout",
     "output_type": "stream",
     "text": [
      "['apple', 'ask', 'beta', 'course', 'london', 'python']\n"
     ]
    }
   ],
   "source": [
    "#myText = str(input('Enter a sentence that requires the words to be rearranged in alphabetical order: '))\n",
    "#textList = myText.split()\n",
    "#alpOrder = sorted(textList)\n",
    "\n",
    "alpOrder = sorted(str(input('Enter a sentence that requires the words to be rearranged in alphabetical order: ')).split())\n",
    "print(alpOrder)"
   ]
  },
  {
   "cell_type": "markdown",
   "id": "09a7b060",
   "metadata": {},
   "source": [
    "-----------------------------------------------------------------------------\n",
    "# Exercise 09\n",
    "Write a program using for loops to print a christmas tree of x lines high\n",
    "specified by the user.\n",
    "(use for loops)\n",
    "so for instance, a chrismas tree of 4 high should looks like this:\n",
    "\n",
    "```\n",
    "\n",
    "    *\n",
    "   ***\n",
    "  *****\n",
    " *******\n",
    "    |\n",
    "\n",
    "```\n",
    "\n",
    "hint: first combine strings into a variable before printing"
   ]
  },
  {
   "cell_type": "code",
   "execution_count": 98,
   "id": "5150f7a4",
   "metadata": {},
   "outputs": [
    {
     "name": "stdout",
     "output_type": "stream",
     "text": [
      "          *\n",
      "         ***\n",
      "        *****\n",
      "       *******\n",
      "      *********\n",
      "     ***********\n",
      "    *************\n",
      "   ***************\n",
      "  *****************\n",
      " *******************\n",
      "          |\n"
     ]
    }
   ],
   "source": [
    "setLineNum = int(input('How high do you want to plant a tree? (Enter a number)'))\n",
    "setLineNumBottom = setLineNum\n",
    "for lineNum in range(1,setLineNum,2):\n",
    "    print(str(' ' * int(setLineNum//2)) + str('*' * lineNum))\n",
    "    setLineNum -=2\n",
    "print(' '*int(setLineNumBottom//2) + '|')"
   ]
  },
  {
   "cell_type": "markdown",
   "id": "07f67531",
   "metadata": {},
   "source": [
    "-----------------------------------------------------------------------------\n",
    "# Exercise 10\n",
    "Write a piece of code that prints the first $n$ numbers of the padovan sequence"
   ]
  },
  {
   "cell_type": "code",
   "execution_count": 100,
   "id": "d301c61b",
   "metadata": {},
   "outputs": [
    {
     "name": "stdout",
     "output_type": "stream",
     "text": [
      "The first 10 Padovan numbers are: [1, 1, 1, 2, 2, 3, 4, 5, 7, 9]\n"
     ]
    }
   ],
   "source": [
    "def padSequence(n):\n",
    "    if n <= 2:\n",
    "        return 1\n",
    "    padovan = [1, 1, 1]\n",
    "    for i in range(3, n):\n",
    "        nextTerm = padovan[i-2] + padovan[i-3]\n",
    "        padovan.append(nextTerm)\n",
    "    return padovan\n",
    "\n",
    "n = int(input(\"Enter the number of Padovan numbers to print: \"))\n",
    "\n",
    "if n <= 0:\n",
    "    print(\"Please enter a positive integer.\")\n",
    "else:\n",
    "    padNum = padSequence(n)\n",
    "    print(\"The first\", n, \"Padovan numbers are:\", padNum)"
   ]
  }
 ],
 "metadata": {
  "kernelspec": {
   "display_name": "Python 3 (ipykernel)",
   "language": "python",
   "name": "python3"
  },
  "language_info": {
   "codemirror_mode": {
    "name": "ipython",
    "version": 3
   },
   "file_extension": ".py",
   "mimetype": "text/x-python",
   "name": "python",
   "nbconvert_exporter": "python",
   "pygments_lexer": "ipython3",
   "version": "3.11.5"
  }
 },
 "nbformat": 4,
 "nbformat_minor": 5
}
